{
 "cells": [
  {
   "cell_type": "markdown",
   "metadata": {},
   "source": [
    "# ASSIGNMENT 3\n",
    "\n",
    "Write a function in Python to check whether a number is Prime or not."
   ]
  },
  {
   "cell_type": "code",
   "execution_count": 1,
   "metadata": {},
   "outputs": [
    {
     "name": "stdout",
     "output_type": "stream",
     "text": [
      "enter the number to check it prime or not (end to quit):\n",
      "\n",
      "19\n",
      "It is a Prime Number\n",
      "\n",
      "enter the number to check it prime or not (end to quit):\n",
      "\n",
      "15\n",
      "It is not a Prime Number\n",
      "\n",
      "enter the number to check it prime or not (end to quit):\n",
      "\n",
      "34\n",
      "It is not a Prime Number\n",
      "\n",
      "enter the number to check it prime or not (end to quit):\n",
      "\n",
      "90\n",
      "It is not a Prime Number\n",
      "\n",
      "enter the number to check it prime or not (end to quit):\n",
      "\n",
      "17\n",
      "It is a Prime Number\n",
      "\n",
      "enter the number to check it prime or not (end to quit):\n",
      "\n",
      "end\n"
     ]
    }
   ],
   "source": [
    "def checkprime(n):\n",
    "    k,count,o=1,0,0\n",
    "    for i in range(k,n+1):\n",
    "        if(n%i==0):\n",
    "            count+=1\n",
    "        if(count>2):\n",
    "            break\n",
    "    if(count==2):\n",
    "        return 1\n",
    "    else:\n",
    "        return 0\n",
    "print(\"enter the number to check it prime or not (end to quit):\\n\")\n",
    "a=input().strip()\n",
    "while(a!='end'):\n",
    "    result=checkprime(int(a))\n",
    "    if(result==1):\n",
    "        print(\"It is a Prime Number\\n\")\n",
    "    else:\n",
    "        print(\"It is not a Prime Number\\n\")\n",
    "    print(\"enter the number to check it prime or not (end to quit):\\n\")\n",
    "    a=input().strip()"
   ]
  }
 ],
 "metadata": {
  "kernelspec": {
   "display_name": "Python 3",
   "language": "python",
   "name": "python3"
  },
  "language_info": {
   "codemirror_mode": {
    "name": "ipython",
    "version": 3
   },
   "file_extension": ".py",
   "mimetype": "text/x-python",
   "name": "python",
   "nbconvert_exporter": "python",
   "pygments_lexer": "ipython3",
   "version": "3.8.6"
  }
 },
 "nbformat": 4,
 "nbformat_minor": 4
}
