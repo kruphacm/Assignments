{
 "cells": [
  {
   "cell_type": "markdown",
   "metadata": {},
   "source": [
    "# ASSIGNMENT 1\n",
    "CREATING LIST AND DITIONARY AND PERFORMING 5 BUILT-IN FUNCTIONS "
   ]
  },
  {
   "cell_type": "markdown",
   "metadata": {},
   "source": [
    "# CREATING LIST "
   ]
  },
  {
   "cell_type": "code",
   "execution_count": 8,
   "metadata": {},
   "outputs": [
    {
     "name": "stdout",
     "output_type": "stream",
     "text": [
      "enter the length of the list\n",
      "10\n",
      "enter the 1 number\n",
      "34\n",
      "enter the 2 number\n",
      "45\n",
      "enter the 3 number\n",
      "67\n",
      "enter the 4 number\n",
      "89\n",
      "enter the 5 number\n",
      "12\n",
      "enter the 6 number\n",
      "2\n",
      "enter the 7 number\n",
      "34\n",
      "enter the 8 number\n",
      "66\n",
      "enter the 9 number\n",
      "77\n",
      "enter the 10 number\n",
      "99\n",
      "the list will be [34, 45, 67, 89, 12, 2, 34, 66, 77, 99]\n"
     ]
    }
   ],
   "source": [
    "print(\"enter the length of the list\")\n",
    "k=int(input())\n",
    "lst=[]\n",
    "for i in range(k):\n",
    "    print(\"enter the\",i+1,\"number\")\n",
    "    lst.append(int(input()))\n",
    "print(\"the list will be\",lst)"
   ]
  },
  {
   "cell_type": "markdown",
   "metadata": {},
   "source": [
    "### OPERATIONS ON LIST\n",
    " Here we are going to do five operations on list"
   ]
  },
  {
   "cell_type": "code",
   "execution_count": 9,
   "metadata": {},
   "outputs": [
    {
     "name": "stdout",
     "output_type": "stream",
     "text": [
      "the length of the list will be: 10\n",
      "The sum of all elements in the list will be: 525\n",
      "The maximum value in the list will be: 99\n",
      "The minimum value in the list will be: 2\n",
      "The sorted list will be: [2, 12, 34, 34, 45, 66, 67, 77, 89, 99]\n"
     ]
    }
   ],
   "source": [
    "print(\"the length of the list will be:\",len(lst)) #return the total length\n",
    "print(\"The sum of all elements in the list will be:\",sum(lst)) #return sum of list\n",
    "print(\"The maximum value in the list will be:\",max(lst)) #return max value\n",
    "print(\"The minimum value in the list will be:\",min(lst)) #return min value\n",
    "lst.sort()\n",
    "print(\"The sorted list will be:\",lst) #return the sorted list"
   ]
  },
  {
   "cell_type": "markdown",
   "metadata": {},
   "source": [
    "# CREATING DICTIONARY"
   ]
  },
  {
   "cell_type": "code",
   "execution_count": 10,
   "metadata": {},
   "outputs": [
    {
     "name": "stdout",
     "output_type": "stream",
     "text": [
      "enter the length of dictionary\n",
      "5\n",
      "enter the 1 key\n",
      "1\n",
      "enter the 1 value\n",
      "one\n",
      "enter the 2 key\n",
      "2\n",
      "enter the 2 value\n",
      "two\n",
      "enter the 3 key\n",
      "3\n",
      "enter the 3 value\n",
      "three\n",
      "enter the 4 key\n",
      "4\n",
      "enter the 4 value\n",
      "four\n",
      "enter the 5 key\n",
      "5\n",
      "enter the 5 value\n",
      "five\n",
      "the dictionary will be {'1': 'one', '2': 'two', '3': 'three', '4': 'four', '5': 'five'}\n"
     ]
    }
   ],
   "source": [
    "print(\"enter the length of dictionary\")\n",
    "k=int(input())\n",
    "dict={}\n",
    "for i in range(k):\n",
    "    print(\"enter the\",i+1,\"key\")\n",
    "    l=input().strip()\n",
    "    print(\"enter the\",i+1,\"value\")\n",
    "    dict[l]=input().strip()\n",
    "print(\"the dictionary will be\",dict)"
   ]
  },
  {
   "cell_type": "markdown",
   "metadata": {},
   "source": [
    "### OPERATIONS ON DICTIONARY\n",
    " Here we are going to do five operations on dictionary"
   ]
  },
  {
   "cell_type": "code",
   "execution_count": 11,
   "metadata": {},
   "outputs": [
    {
     "name": "stdout",
     "output_type": "stream",
     "text": [
      "the total length of dictionary will be 5\n",
      "the string form of the dictionary will be: {'1': 'one', '2': 'two', '3': 'three', '4': 'four', '5': 'five'}\n",
      "the keys of the dictionary are: dict_keys(['1', '2', '3', '4', '5'])\n",
      "the values of the dictionary are: dict_values(['one', 'two', 'three', 'four', 'five'])\n",
      "the total items in dictionary will be: dict_items([('1', 'one'), ('2', 'two'), ('3', 'three'), ('4', 'four'), ('5', 'five')])\n"
     ]
    }
   ],
   "source": [
    "print(\"the total length of dictionary will be\",len(dict)) #return the length of ditionary\n",
    "print(\"the string form of the dictionary will be:\",str(dict)) #Produces a printable string representation of a dictionary\n",
    "print(\"the keys of the dictionary are:\",dict.keys()) #returns all the keys of dictionary\n",
    "print(\"the values of the dictionary are:\",dict.values()) #retuens all the values of dictionary\n",
    "print(\"the total items in dictionary will be:\",dict.items()) #Returns a list of dict's (key, value) tuple pairs"
   ]
  }
 ],
 "metadata": {
  "kernelspec": {
   "display_name": "Python 3",
   "language": "python",
   "name": "python3"
  },
  "language_info": {
   "codemirror_mode": {
    "name": "ipython",
    "version": 3
   },
   "file_extension": ".py",
   "mimetype": "text/x-python",
   "name": "python",
   "nbconvert_exporter": "python",
   "pygments_lexer": "ipython3",
   "version": "3.8.6"
  }
 },
 "nbformat": 4,
 "nbformat_minor": 4
}
