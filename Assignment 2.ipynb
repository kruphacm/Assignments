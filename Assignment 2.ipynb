{
 "cells": [
  {
   "cell_type": "markdown",
   "metadata": {},
   "source": [
    "# ASSIGNMENT 2 "
   ]
  },
  {
   "cell_type": "markdown",
   "metadata": {},
   "source": [
    " QUESTION\n",
    " You all are pilots, you have to land a plane, the altitude required for landing a plane is 1000ft, if it\n",
    "is less than that tell the pilot to land the plane, or it is more than that but less than 5000ft ask the\n",
    "pilot to \"come down to 1000ft\", else if it is more than 5000ft ask the pilot to \"go around and try\n",
    "later\"\n",
    "Example: Input - 1000\n",
    "Output - Safe to land\n",
    "Example: Input - 4500\n",
    "Output - Bring down to 1000\n",
    "Example: Input 6500\n",
    "Output - Turn Around"
   ]
  },
  {
   "cell_type": "code",
   "execution_count": 4,
   "metadata": {},
   "outputs": [
    {
     "name": "stdout",
     "output_type": "stream",
     "text": [
      "Enter the altitude in ft:\n",
      "1000\n",
      "Safe to Land\n",
      "Enter the altitude in ft:\n",
      "4500\n",
      "Come down to 1000ft\n",
      "Enter the altitude in ft:\n",
      "6500\n",
      "Turn Around\n",
      "Enter the altitude in ft:\n",
      "end\n"
     ]
    }
   ],
   "source": [
    "print(\"Enter the altitude in ft:\")\n",
    "k=input().strip()\n",
    "while(k.isdigit()):\n",
    "    if(int(k)<=1000):\n",
    "        print(\"Safe to Land\")\n",
    "    elif(int(k)>1000 and int(k)<5000):\n",
    "        print(\"Come down to 1000ft\")\n",
    "    else:\n",
    "        print(\"Turn Around\")\n",
    "    print(\"Enter the altitude in ft:\")\n",
    "    k=input().strip()"
   ]
  }
 ],
 "metadata": {
  "kernelspec": {
   "display_name": "Python 3",
   "language": "python",
   "name": "python3"
  },
  "language_info": {
   "codemirror_mode": {
    "name": "ipython",
    "version": 3
   },
   "file_extension": ".py",
   "mimetype": "text/x-python",
   "name": "python",
   "nbconvert_exporter": "python",
   "pygments_lexer": "ipython3",
   "version": "3.8.6"
  }
 },
 "nbformat": 4,
 "nbformat_minor": 4
}
